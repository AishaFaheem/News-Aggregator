{
 "cells": [
  {
   "cell_type": "code",
   "execution_count": 31,
   "id": "a59c6ef3-02d9-49a2-ad9a-543565343e07",
   "metadata": {},
   "outputs": [],
   "source": [
    "import pandas as pd\n",
    "import re\n",
    "import requests\n",
    "import time\n",
    "from bs4 import BeautifulSoup\n",
    "from requests.adapters import HTTPAdapter\n",
    "from requests.packages.urllib3.util.retry import Retry\n",
    "\n",
    "# Scikit-Learn imports\n",
    "from sklearn.preprocessing import MultiLabelBinarizer\n",
    "from sklearn.model_selection import train_test_split, cross_val_score, GridSearchCV\n",
    "from sklearn.feature_extraction.text import TfidfVectorizer\n",
    "from sklearn.ensemble import RandomForestClassifier\n",
    "from sklearn.pipeline import Pipeline\n",
    "from sklearn.metrics import classification_report, accuracy_score, f1_score, precision_score, recall_score\n",
    "\n",
    "import optuna  # For hyperparameter optimization\n",
    "\n",
    "# PyTorch and Hugging Face Transformers imports\n",
    "import torch\n",
    "from torch.utils.data import Dataset\n",
    "from transformers import Trainer, TrainingArguments, AutoModelForSequenceClassification, AutoTokenizer\n"
   ]
  },
  {
   "cell_type": "code",
   "execution_count": 3,
   "id": "dd30ef90-91b3-4616-9491-294ae1c90de2",
   "metadata": {},
   "outputs": [],
   "source": [
    "def fetch_news_from_currents(api_key, query='world', page_size=100, max_records=5000):\n",
    "    base_url = 'https://api.currentsapi.services/v1/search'\n",
    "    all_articles = []\n",
    "    page = 1\n",
    "\n",
    "    while len(all_articles) < max_records:\n",
    "        params = {\n",
    "            'keywords': query,  # query for API\n",
    "            'page_size': page_size,  # articles per request\n",
    "            'page': page,  # Pagination\n",
    "            'apiKey': api_key,  # API Key\n",
    "        }\n",
    "        \n",
    "        response = requests.get(base_url, params=params)\n",
    "        \n",
    "        if response.status_code == 200:\n",
    "            data = response.json()\n",
    "            articles = data.get('news', [])  #'news' instead of 'articles'\n",
    "            \n",
    "            if not articles:\n",
    "                print(\"No more articles found. Stopping.\")\n",
    "                break\n",
    "            \n",
    "            all_articles.extend(articles)\n",
    "            print(f\"Fetched {len(all_articles)} articles so far...\")\n",
    "            \n",
    "            # Increment page number\n",
    "            page += 1\n",
    "\n",
    "            # API rate limits\n",
    "            time.sleep(1)  # avoid API rate limit\n",
    "\n",
    "        else:\n",
    "            print(f\"Error fetching data: {response.status_code} - {response.text}\")\n",
    "            break\n",
    "    \n",
    "    print(f\"Total articles fetched: {len(all_articles)}\")\n",
    "\n",
    "    # articles to DataFrame\n",
    "    df = pd.DataFrame(all_articles)\n",
    "    return df"
   ]
  },
  {
   "cell_type": "code",
   "execution_count": 5,
   "id": "762b6cf1-ba6e-43c2-a235-ff9cdb97e6b1",
   "metadata": {
    "scrolled": true
   },
   "outputs": [
    {
     "name": "stdout",
     "output_type": "stream",
     "text": [
      "Fetched 100 articles so far...\n",
      "Fetched 200 articles so far...\n",
      "Fetched 300 articles so far...\n",
      "Fetched 400 articles so far...\n",
      "Fetched 500 articles so far...\n",
      "Fetched 600 articles so far...\n",
      "Fetched 700 articles so far...\n",
      "Fetched 800 articles so far...\n",
      "Fetched 900 articles so far...\n",
      "Fetched 1000 articles so far...\n",
      "Fetched 1100 articles so far...\n",
      "Fetched 1200 articles so far...\n",
      "Fetched 1300 articles so far...\n",
      "Fetched 1400 articles so far...\n",
      "Fetched 1500 articles so far...\n",
      "Fetched 1600 articles so far...\n",
      "Fetched 1700 articles so far...\n",
      "Fetched 1800 articles so far...\n",
      "Fetched 1900 articles so far...\n",
      "Fetched 2000 articles so far...\n",
      "Fetched 2100 articles so far...\n",
      "Fetched 2200 articles so far...\n",
      "Fetched 2300 articles so far...\n",
      "Fetched 2400 articles so far...\n",
      "Fetched 2500 articles so far...\n",
      "Fetched 2600 articles so far...\n",
      "Fetched 2700 articles so far...\n",
      "Fetched 2800 articles so far...\n",
      "Fetched 2900 articles so far...\n",
      "Fetched 3000 articles so far...\n",
      "Fetched 3100 articles so far...\n",
      "Fetched 3200 articles so far...\n",
      "Fetched 3300 articles so far...\n",
      "Fetched 3400 articles so far...\n",
      "Fetched 3500 articles so far...\n",
      "Fetched 3600 articles so far...\n",
      "Fetched 3700 articles so far...\n",
      "Fetched 3800 articles so far...\n",
      "Fetched 3900 articles so far...\n",
      "Fetched 4000 articles so far...\n",
      "Fetched 4100 articles so far...\n",
      "Fetched 4200 articles so far...\n",
      "Fetched 4300 articles so far...\n",
      "Fetched 4400 articles so far...\n",
      "Fetched 4500 articles so far...\n",
      "Fetched 4600 articles so far...\n",
      "Fetched 4700 articles so far...\n",
      "Fetched 4800 articles so far...\n",
      "Fetched 4900 articles so far...\n",
      "Fetched 5000 articles so far...\n",
      "Total articles fetched: 5000\n",
      "                                     id  \\\n",
      "0  02edb6ea-95ea-4ed0-bd1d-6a224eb7264a   \n",
      "1  9c0a9e47-8f4b-4f47-b652-441e6633b1cb   \n",
      "2  57670674-2107-4551-a9e0-53afd00ad65b   \n",
      "3  cbc5ba6e-5a95-4ed0-9be1-4a6295f51828   \n",
      "4  47025835-c3cd-46c4-b45a-bdfe821a3832   \n",
      "\n",
      "                                               title  \\\n",
      "0  In Photos: US honors fallen on 23rd anniversar...   \n",
      "1  Thai cave boys’ coach trapped again six years ...   \n",
      "2  After Debate, Trump and Harris Meet Again at S...   \n",
      "3  Global outlets pick apart debate, with many sa...   \n",
      "4  Here's How to Nap Like a Pro Without Destroyin...   \n",
      "\n",
      "                                         description  \\\n",
      "0  Across the United States, people are rememberi...   \n",
      "1  The coach of the young Thai footballers who ca...   \n",
      "2  Setting aside the rancor of their debate, Vice...   \n",
      "3  As in the United States, many around the world...   \n",
      "4  It's time to stop nap shaming. While napping c...   \n",
      "\n",
      "                                                 url  \\\n",
      "0  https://www.voanews.com/a/in-photos-us-honors-...   \n",
      "1  https://www.theguardian.com/world/2024/sep/11/...   \n",
      "2  https://www.nytimes.com/2024/09/11/us/politics...   \n",
      "3  https://www.washingtonpost.com/world/2024/09/1...   \n",
      "4  https://www.cnet.com/health/sleep/heres-how-to...   \n",
      "\n",
      "                            author  \\\n",
      "0                              VOA   \n",
      "1  Agence France-Presse in Bangkok   \n",
      "2                 Jonathan Weisman   \n",
      "3                    Adela Suliman   \n",
      "4                  Amanda Capritto   \n",
      "\n",
      "                                               image language  \\\n",
      "0  https://gdb.voanews.com/8835a969-2dce-48e7-bc7...       en   \n",
      "1  https://i.guim.co.uk/img/media/35029b7f6cc7734...       en   \n",
      "2  https://static01.nyt.com/images/2024/09/11/mul...       en   \n",
      "3  https://www.washingtonpost.com/wp-apps/imrs.ph...       en   \n",
      "4  https://www.cnet.com/a/img/resize/0825d6aaa505...       en   \n",
      "\n",
      "          category                  published  \n",
      "0          [world]  2024-09-11 14:48:56 +0000  \n",
      "1       [regional]  2024-09-11 14:34:17 +0000  \n",
      "2  [regional, usa]  2024-09-11 14:15:09 +0000  \n",
      "3          [world]  2024-09-11 14:14:40 +0000  \n",
      "4        [general]  2024-09-11 14:00:14 +0000  \n"
     ]
    }
   ],
   "source": [
    "\n",
    "api_key = 'xzX6dUV0VMlju-t4gao-DX8HkRukXNkl45tD9crd9zuU9q2S' \n",
    "df = fetch_news_from_currents(api_key)\n",
    "print(df.head())"
   ]
  },
  {
   "cell_type": "code",
   "execution_count": 18,
   "id": "f2e2ebf0-2257-46c3-ac8c-67a7209f9585",
   "metadata": {},
   "outputs": [
    {
     "name": "stdout",
     "output_type": "stream",
     "text": [
      "Index(['id', 'title', 'description', 'url', 'author', 'image', 'language',\n",
      "       'category', 'published'],\n",
      "      dtype='object')\n"
     ]
    }
   ],
   "source": [
    "print(df.columns)\n"
   ]
  },
  {
   "cell_type": "code",
   "execution_count": 19,
   "id": "5d520eda-6e89-43f8-9391-d04788f921e4",
   "metadata": {},
   "outputs": [
    {
     "data": {
      "text/html": [
       "<div>\n",
       "<style scoped>\n",
       "    .dataframe tbody tr th:only-of-type {\n",
       "        vertical-align: middle;\n",
       "    }\n",
       "\n",
       "    .dataframe tbody tr th {\n",
       "        vertical-align: top;\n",
       "    }\n",
       "\n",
       "    .dataframe thead th {\n",
       "        text-align: right;\n",
       "    }\n",
       "</style>\n",
       "<table border=\"1\" class=\"dataframe\">\n",
       "  <thead>\n",
       "    <tr style=\"text-align: right;\">\n",
       "      <th></th>\n",
       "      <th>id</th>\n",
       "      <th>title</th>\n",
       "      <th>description</th>\n",
       "      <th>url</th>\n",
       "      <th>author</th>\n",
       "      <th>image</th>\n",
       "      <th>language</th>\n",
       "      <th>category</th>\n",
       "      <th>published</th>\n",
       "    </tr>\n",
       "  </thead>\n",
       "  <tbody>\n",
       "    <tr>\n",
       "      <th>0</th>\n",
       "      <td>becc9e6b-2eb2-4f58-9bff-05e5cb92d774</td>\n",
       "      <td>LNG Tailwind For U.S. Natural Gas Intact As Pr...</td>\n",
       "      <td>The US became the world’s largest exporter of ...</td>\n",
       "      <td>https://seekingalpha.com/article/4720479-lng-t...</td>\n",
       "      <td>VettaFi Research</td>\n",
       "      <td>https://static.seekingalpha.com/cdn/s3/uploads...</td>\n",
       "      <td>en</td>\n",
       "      <td>[business, finance]</td>\n",
       "      <td>2024-09-11 15:48:00 +0000</td>\n",
       "    </tr>\n",
       "    <tr>\n",
       "      <th>1</th>\n",
       "      <td>954c3f4a-8b0f-4e7c-9dfd-273570764987</td>\n",
       "      <td>Biden, Harris and Trump visit Sept. 11 site in...</td>\n",
       "      <td>New York — President Joe Biden, Vice President...</td>\n",
       "      <td>https://www.voanews.com/a/7780183.html</td>\n",
       "      <td>Reuters</td>\n",
       "      <td>None</td>\n",
       "      <td>en</td>\n",
       "      <td>[world]</td>\n",
       "      <td>2024-09-11 15:46:35 +0000</td>\n",
       "    </tr>\n",
       "    <tr>\n",
       "      <th>2</th>\n",
       "      <td>b14794f5-81d9-4cbc-8ef7-d443755d7f7e</td>\n",
       "      <td>Socceroos’ malaise one of their own making as ...</td>\n",
       "      <td>Australia coach Graham Arnold will ponder mis-...</td>\n",
       "      <td>https://www.theguardian.com/football/blog/arti...</td>\n",
       "      <td>Joey Lynch</td>\n",
       "      <td>https://i.guim.co.uk/img/media/bc549b15a0cb144...</td>\n",
       "      <td>en</td>\n",
       "      <td>[sports]</td>\n",
       "      <td>2024-09-11 15:00:10 +0000</td>\n",
       "    </tr>\n",
       "    <tr>\n",
       "      <th>3</th>\n",
       "      <td>02edb6ea-95ea-4ed0-bd1d-6a224eb7264a</td>\n",
       "      <td>In Photos: US honors fallen on 23rd anniversar...</td>\n",
       "      <td>Across the United States, people are rememberi...</td>\n",
       "      <td>https://www.voanews.com/a/in-photos-us-honors-...</td>\n",
       "      <td>VOA</td>\n",
       "      <td>https://gdb.voanews.com/8835a969-2dce-48e7-bc7...</td>\n",
       "      <td>en</td>\n",
       "      <td>[world]</td>\n",
       "      <td>2024-09-11 14:48:56 +0000</td>\n",
       "    </tr>\n",
       "    <tr>\n",
       "      <th>4</th>\n",
       "      <td>57670674-2107-4551-a9e0-53afd00ad65b</td>\n",
       "      <td>After Debate, Trump and Harris Meet Again at S...</td>\n",
       "      <td>Setting aside the rancor of their debate, Vice...</td>\n",
       "      <td>https://www.nytimes.com/2024/09/11/us/politics...</td>\n",
       "      <td>Jonathan Weisman</td>\n",
       "      <td>https://static01.nyt.com/images/2024/09/11/mul...</td>\n",
       "      <td>en</td>\n",
       "      <td>[regional, usa]</td>\n",
       "      <td>2024-09-11 14:15:09 +0000</td>\n",
       "    </tr>\n",
       "    <tr>\n",
       "      <th>...</th>\n",
       "      <td>...</td>\n",
       "      <td>...</td>\n",
       "      <td>...</td>\n",
       "      <td>...</td>\n",
       "      <td>...</td>\n",
       "      <td>...</td>\n",
       "      <td>...</td>\n",
       "      <td>...</td>\n",
       "      <td>...</td>\n",
       "    </tr>\n",
       "    <tr>\n",
       "      <th>4995</th>\n",
       "      <td>b8d067e8-fd9a-432f-aa7e-7b147ed8d723</td>\n",
       "      <td>Spoofing-Aware Speaker Verification Robust Aga...</td>\n",
       "      <td>arXiv:2409.06327v1 Announce Type: cross \\nAbst...</td>\n",
       "      <td>https://arxiv.org/abs/2409.06327</td>\n",
       "      <td>rss-help</td>\n",
       "      <td>None</td>\n",
       "      <td>en</td>\n",
       "      <td>[academic, CS]</td>\n",
       "      <td>2024-09-11 04:00:00 +0000</td>\n",
       "    </tr>\n",
       "    <tr>\n",
       "      <th>4996</th>\n",
       "      <td>3f48969c-198d-49c1-9f8c-c0814149249c</td>\n",
       "      <td>Advancing Causal Inference: A Nonparametric Ap...</td>\n",
       "      <td>arXiv:2409.06593v1 Announce Type: cross \\nAbst...</td>\n",
       "      <td>https://arxiv.org/abs/2409.06593</td>\n",
       "      <td>rss-help</td>\n",
       "      <td>None</td>\n",
       "      <td>en</td>\n",
       "      <td>[academic, CS]</td>\n",
       "      <td>2024-09-11 04:00:00 +0000</td>\n",
       "    </tr>\n",
       "    <tr>\n",
       "      <th>4997</th>\n",
       "      <td>ea362e42-fc76-44a5-bb77-95d84a74d3bd</td>\n",
       "      <td>FC-Planner: A Skeleton-guided Planning Framewo...</td>\n",
       "      <td>arXiv:2309.13882v3 Announce Type: replace \\nAb...</td>\n",
       "      <td>https://arxiv.org/abs/2309.13882</td>\n",
       "      <td>rss-help</td>\n",
       "      <td>None</td>\n",
       "      <td>en</td>\n",
       "      <td>[academic, CS]</td>\n",
       "      <td>2024-09-11 04:00:00 +0000</td>\n",
       "    </tr>\n",
       "    <tr>\n",
       "      <th>4998</th>\n",
       "      <td>f5f3aa7f-4b5f-4351-b06f-409ba4504a36</td>\n",
       "      <td>Learning Generative Models for Lumped Rainfall...</td>\n",
       "      <td>arXiv:2309.09904v3 Announce Type: replace-cros...</td>\n",
       "      <td>https://arxiv.org/abs/2309.09904</td>\n",
       "      <td>rss-help</td>\n",
       "      <td>None</td>\n",
       "      <td>en</td>\n",
       "      <td>[academic, CS]</td>\n",
       "      <td>2024-09-11 04:00:00 +0000</td>\n",
       "    </tr>\n",
       "    <tr>\n",
       "      <th>4999</th>\n",
       "      <td>1503c3dd-1a38-419b-b6c2-8774c90b2e43</td>\n",
       "      <td>Central Alabama voters react to first debate b...</td>\n",
       "      <td>BIRMINGHAM, Ala. (WIAT) - The presidential can...</td>\n",
       "      <td>https://www.cbs42.com/news/local/central-alaba...</td>\n",
       "      <td>Maddie McQueen</td>\n",
       "      <td>None</td>\n",
       "      <td>en</td>\n",
       "      <td>[regional, alabama]</td>\n",
       "      <td>2024-09-11 03:59:02 +0000</td>\n",
       "    </tr>\n",
       "  </tbody>\n",
       "</table>\n",
       "<p>5000 rows × 9 columns</p>\n",
       "</div>"
      ],
      "text/plain": [
       "                                        id  \\\n",
       "0     becc9e6b-2eb2-4f58-9bff-05e5cb92d774   \n",
       "1     954c3f4a-8b0f-4e7c-9dfd-273570764987   \n",
       "2     b14794f5-81d9-4cbc-8ef7-d443755d7f7e   \n",
       "3     02edb6ea-95ea-4ed0-bd1d-6a224eb7264a   \n",
       "4     57670674-2107-4551-a9e0-53afd00ad65b   \n",
       "...                                    ...   \n",
       "4995  b8d067e8-fd9a-432f-aa7e-7b147ed8d723   \n",
       "4996  3f48969c-198d-49c1-9f8c-c0814149249c   \n",
       "4997  ea362e42-fc76-44a5-bb77-95d84a74d3bd   \n",
       "4998  f5f3aa7f-4b5f-4351-b06f-409ba4504a36   \n",
       "4999  1503c3dd-1a38-419b-b6c2-8774c90b2e43   \n",
       "\n",
       "                                                  title  \\\n",
       "0     LNG Tailwind For U.S. Natural Gas Intact As Pr...   \n",
       "1     Biden, Harris and Trump visit Sept. 11 site in...   \n",
       "2     Socceroos’ malaise one of their own making as ...   \n",
       "3     In Photos: US honors fallen on 23rd anniversar...   \n",
       "4     After Debate, Trump and Harris Meet Again at S...   \n",
       "...                                                 ...   \n",
       "4995  Spoofing-Aware Speaker Verification Robust Aga...   \n",
       "4996  Advancing Causal Inference: A Nonparametric Ap...   \n",
       "4997  FC-Planner: A Skeleton-guided Planning Framewo...   \n",
       "4998  Learning Generative Models for Lumped Rainfall...   \n",
       "4999  Central Alabama voters react to first debate b...   \n",
       "\n",
       "                                            description  \\\n",
       "0     The US became the world’s largest exporter of ...   \n",
       "1     New York — President Joe Biden, Vice President...   \n",
       "2     Australia coach Graham Arnold will ponder mis-...   \n",
       "3     Across the United States, people are rememberi...   \n",
       "4     Setting aside the rancor of their debate, Vice...   \n",
       "...                                                 ...   \n",
       "4995  arXiv:2409.06327v1 Announce Type: cross \\nAbst...   \n",
       "4996  arXiv:2409.06593v1 Announce Type: cross \\nAbst...   \n",
       "4997  arXiv:2309.13882v3 Announce Type: replace \\nAb...   \n",
       "4998  arXiv:2309.09904v3 Announce Type: replace-cros...   \n",
       "4999  BIRMINGHAM, Ala. (WIAT) - The presidential can...   \n",
       "\n",
       "                                                    url            author  \\\n",
       "0     https://seekingalpha.com/article/4720479-lng-t...  VettaFi Research   \n",
       "1                https://www.voanews.com/a/7780183.html           Reuters   \n",
       "2     https://www.theguardian.com/football/blog/arti...        Joey Lynch   \n",
       "3     https://www.voanews.com/a/in-photos-us-honors-...               VOA   \n",
       "4     https://www.nytimes.com/2024/09/11/us/politics...  Jonathan Weisman   \n",
       "...                                                 ...               ...   \n",
       "4995                   https://arxiv.org/abs/2409.06327          rss-help   \n",
       "4996                   https://arxiv.org/abs/2409.06593          rss-help   \n",
       "4997                   https://arxiv.org/abs/2309.13882          rss-help   \n",
       "4998                   https://arxiv.org/abs/2309.09904          rss-help   \n",
       "4999  https://www.cbs42.com/news/local/central-alaba...    Maddie McQueen   \n",
       "\n",
       "                                                  image language  \\\n",
       "0     https://static.seekingalpha.com/cdn/s3/uploads...       en   \n",
       "1                                                  None       en   \n",
       "2     https://i.guim.co.uk/img/media/bc549b15a0cb144...       en   \n",
       "3     https://gdb.voanews.com/8835a969-2dce-48e7-bc7...       en   \n",
       "4     https://static01.nyt.com/images/2024/09/11/mul...       en   \n",
       "...                                                 ...      ...   \n",
       "4995                                               None       en   \n",
       "4996                                               None       en   \n",
       "4997                                               None       en   \n",
       "4998                                               None       en   \n",
       "4999                                               None       en   \n",
       "\n",
       "                 category                  published  \n",
       "0     [business, finance]  2024-09-11 15:48:00 +0000  \n",
       "1                 [world]  2024-09-11 15:46:35 +0000  \n",
       "2                [sports]  2024-09-11 15:00:10 +0000  \n",
       "3                 [world]  2024-09-11 14:48:56 +0000  \n",
       "4         [regional, usa]  2024-09-11 14:15:09 +0000  \n",
       "...                   ...                        ...  \n",
       "4995       [academic, CS]  2024-09-11 04:00:00 +0000  \n",
       "4996       [academic, CS]  2024-09-11 04:00:00 +0000  \n",
       "4997       [academic, CS]  2024-09-11 04:00:00 +0000  \n",
       "4998       [academic, CS]  2024-09-11 04:00:00 +0000  \n",
       "4999  [regional, alabama]  2024-09-11 03:59:02 +0000  \n",
       "\n",
       "[5000 rows x 9 columns]"
      ]
     },
     "execution_count": 19,
     "metadata": {},
     "output_type": "execute_result"
    }
   ],
   "source": [
    "df"
   ]
  },
  {
   "cell_type": "code",
   "execution_count": 6,
   "id": "3940015e-7574-49c6-b981-b02630817a96",
   "metadata": {},
   "outputs": [],
   "source": [
    "df.to_csv('articles.csv', index=False)"
   ]
  },
  {
   "cell_type": "code",
   "execution_count": 4,
   "id": "c82e83d3-e47c-4fe8-95c2-5b3e23ab289c",
   "metadata": {},
   "outputs": [],
   "source": [
    "df_articles = pd.read_csv('articles.csv')"
   ]
  },
  {
   "cell_type": "code",
   "execution_count": 5,
   "id": "f769ea53-9b32-419c-a4c7-02aaafee04fd",
   "metadata": {},
   "outputs": [],
   "source": [
    "\n",
    "# Multi-label binarization\n",
    "mlb = MultiLabelBinarizer()\n",
    "df_articles['category'] = df_articles['category'].apply(lambda x: [x] if isinstance(x, str) else x)\n",
    "binarized_labels = mlb.fit_transform(df_articles['category'])\n",
    "\n",
    "train_texts, val_texts, train_labels, val_labels = train_test_split(\n",
    "    df_articles['title'].tolist(),\n",
    "    binarized_labels,\n",
    "    test_size=0.2,\n",
    "    random_state=42\n",
    ")"
   ]
  },
  {
   "cell_type": "code",
   "execution_count": 6,
   "id": "b2890847-d4b3-4c3d-b5c9-5274e4015e95",
   "metadata": {},
   "outputs": [],
   "source": [
    "#!pip install accelerate --upgrade\n",
    "#!pip install transformers[torch] --upgrade\n"
   ]
  },
  {
   "cell_type": "code",
   "execution_count": 9,
   "id": "8a0e77ad-9d9e-4e5f-add2-7cc4e2319452",
   "metadata": {},
   "outputs": [],
   "source": [
    "class NewsDataset(Dataset):\n",
    "    def __init__(self, encodings, labels):\n",
    "        self.encodings = encodings\n",
    "        self.labels = labels\n",
    "\n",
    "    def __getitem__(self, idx):\n",
    "        item = {key: torch.tensor(val[idx]) for key, val in self.encodings.items()}\n",
    "        item['labels'] = torch.tensor(self.labels[idx], dtype=torch.float)  # Use float for BCEWithLogitsLoss\n",
    "        return item\n",
    "\n",
    "    def __len__(self):\n",
    "        return len(self.labels)"
   ]
  },
  {
   "cell_type": "code",
   "execution_count": 10,
   "id": "ac36defe-7260-4922-b703-0a8017244f90",
   "metadata": {},
   "outputs": [],
   "source": [
    "# datasets\n",
    "train_dataset = tokenize_data(train_texts, train_labels)\n",
    "val_dataset = tokenize_data(val_texts, val_labels)"
   ]
  },
  {
   "cell_type": "markdown",
   "id": "6d484e18-b8ad-43ae-a5d3-b27849ba4b4e",
   "metadata": {},
   "source": [
    "News Aggregation with Bert Pre Trained Model"
   ]
  },
  {
   "cell_type": "code",
   "execution_count": 11,
   "id": "78b18559-b286-40b1-959c-fadcd554447c",
   "metadata": {},
   "outputs": [
    {
     "name": "stderr",
     "output_type": "stream",
     "text": [
      "Some weights of BertForSequenceClassification were not initialized from the model checkpoint at bert-base-uncased and are newly initialized: ['classifier.bias', 'classifier.weight']\n",
      "You should probably TRAIN this model on a down-stream task to be able to use it for predictions and inference.\n"
     ]
    }
   ],
   "source": [
    "# Tokenizer and model initialization\n",
    "model_name = \"bert-base-uncased\"\n",
    "tokenizer = AutoTokenizer.from_pretrained(model_name)\n",
    "model = AutoModelForSequenceClassification.from_pretrained(model_name, num_labels=len(mlb.classes_))\n",
    "\n",
    "# Tokenize data\n",
    "def tokenize_data(texts, labels):\n",
    "    encodings = tokenizer(texts, truncation=True, padding=True, max_length=512)\n",
    "    return NewsDataset(encodings, labels)"
   ]
  },
  {
   "cell_type": "code",
   "execution_count": 14,
   "id": "e9028484-5ff0-4a6b-b373-08a39fa76b82",
   "metadata": {},
   "outputs": [],
   "source": [
    "\n",
    "def compute_metrics(p):\n",
    "    # predictions and labels\n",
    "    predictions = p.predictions > 0.5  # logits to binary predictions\n",
    "    labels = p.label_ids\n",
    "\n",
    "    # multi-label metrics\n",
    "    accuracy = accuracy_score(labels, predictions)\n",
    "    f1 = f1_score(labels, predictions, average='samples')\n",
    "    precision = precision_score(labels, predictions, average='samples')\n",
    "    recall = recall_score(labels, predictions, average='samples')\n",
    "\n",
    "    return {\n",
    "        'accuracy': accuracy,\n",
    "        'f1': f1,\n",
    "        'precision': precision,\n",
    "        'recall': recall\n",
    "    }\n"
   ]
  },
  {
   "cell_type": "code",
   "execution_count": 15,
   "id": "b526a41d-b09b-4f99-8771-d5badb51d7e5",
   "metadata": {
    "scrolled": true
   },
   "outputs": [
    {
     "data": {
      "text/html": [
       "\n",
       "    <div>\n",
       "      \n",
       "      <progress value='1500' max='1500' style='width:300px; height:20px; vertical-align: middle;'></progress>\n",
       "      [1500/1500 1:03:23, Epoch 3/3]\n",
       "    </div>\n",
       "    <table border=\"1\" class=\"dataframe\">\n",
       "  <thead>\n",
       " <tr style=\"text-align: left;\">\n",
       "      <th>Step</th>\n",
       "      <th>Training Loss</th>\n",
       "    </tr>\n",
       "  </thead>\n",
       "  <tbody>\n",
       "    <tr>\n",
       "      <td>500</td>\n",
       "      <td>0.015000</td>\n",
       "    </tr>\n",
       "    <tr>\n",
       "      <td>1000</td>\n",
       "      <td>0.005400</td>\n",
       "    </tr>\n",
       "    <tr>\n",
       "      <td>1500</td>\n",
       "      <td>0.003500</td>\n",
       "    </tr>\n",
       "  </tbody>\n",
       "</table><p>"
      ],
      "text/plain": [
       "<IPython.core.display.HTML object>"
      ]
     },
     "metadata": {},
     "output_type": "display_data"
    },
    {
     "data": {
      "text/html": [
       "\n",
       "    <div>\n",
       "      \n",
       "      <progress value='125' max='125' style='width:300px; height:20px; vertical-align: middle;'></progress>\n",
       "      [125/125 00:59]\n",
       "    </div>\n",
       "    "
      ],
      "text/plain": [
       "<IPython.core.display.HTML object>"
      ]
     },
     "metadata": {},
     "output_type": "display_data"
    },
    {
     "name": "stdout",
     "output_type": "stream",
     "text": [
      "{'eval_loss': 0.0034609108697623014, 'eval_accuracy': 0.974, 'eval_f1': 0.974, 'eval_precision': 0.974, 'eval_recall': 0.974, 'eval_runtime': 60.3444, 'eval_samples_per_second': 16.572, 'eval_steps_per_second': 2.071, 'epoch': 3.0}\n"
     ]
    },
    {
     "name": "stderr",
     "output_type": "stream",
     "text": [
      "C:\\Users\\USER\\anaconda3\\Lib\\site-packages\\sklearn\\metrics\\_classification.py:1344: UndefinedMetricWarning: Precision is ill-defined and being set to 0.0 in samples with no predicted labels. Use `zero_division` parameter to control this behavior.\n",
      "  _warn_prf(average, modifier, msg_start, len(result))\n"
     ]
    }
   ],
   "source": [
    "# TrainingArguments\n",
    "training_args = TrainingArguments(\n",
    "    output_dir='./results',\n",
    "    num_train_epochs=3,\n",
    "    per_device_train_batch_size=8,\n",
    "    per_device_eval_batch_size=8,\n",
    "    warmup_steps=500,\n",
    "    weight_decay=0.01,\n",
    "    logging_dir='./logs',\n",
    ")\n",
    "\n",
    "# Trainer with compute_metrics\n",
    "trainer = Trainer(\n",
    "    model=model,\n",
    "    args=training_args,\n",
    "    train_dataset=train_dataset,\n",
    "    eval_dataset=val_dataset,  # Ensure this is correctly split\n",
    "    compute_metrics=compute_metrics\n",
    ")\n",
    "\n",
    "# Training model\n",
    "trainer.train()\n",
    "\n",
    "# Evaluating model\n",
    "results = trainer.evaluate()\n",
    "print(results)\n"
   ]
  },
  {
   "cell_type": "markdown",
   "id": "500ffd8c-dc9c-453c-ac6e-1d55a1cf7805",
   "metadata": {},
   "source": [
    "idhar tak"
   ]
  },
  {
   "cell_type": "markdown",
   "id": "463c3856-ca21-4387-a3a5-1d0864d85a54",
   "metadata": {},
   "source": [
    "My own model"
   ]
  },
  {
   "cell_type": "code",
   "execution_count": 16,
   "id": "a4f2a792-5906-4dd5-9f1b-c4197f7bdf3b",
   "metadata": {},
   "outputs": [
    {
     "name": "stdout",
     "output_type": "stream",
     "text": [
      "object\n",
      "0              [['world']]\n",
      "1           [['regional']]\n",
      "2    [['regional', 'usa']]\n",
      "3              [['world']]\n",
      "4            [['general']]\n",
      "Name: category, dtype: object\n"
     ]
    }
   ],
   "source": [
    "#data type of the category\n",
    "print(df_articles['category'].dtype)\n",
    "\n",
    "print(df_articles['category'].head())\n"
   ]
  },
  {
   "cell_type": "code",
   "execution_count": 65,
   "id": "2488248f-5174-4031-8fbb-10d5c1953cd8",
   "metadata": {},
   "outputs": [
    {
     "name": "stdout",
     "output_type": "stream",
     "text": [
      "tensor([[  101,  1996,  2088,  ...,     0,     0,     0],\n",
      "        [  101,  2844, 19143,  ...,   102,     0,     0],\n",
      "        [  101,  1999,  7760,  ...,     0,     0,     0],\n",
      "        ...,\n",
      "        [  101,  6847, 10665,  ...,     0,     0,     0],\n",
      "        [  101,  4975,  2019,  ...,     0,     0,     0],\n",
      "        [  101,  2300, 16326,  ...,     0,     0,     0]])\n"
     ]
    }
   ],
   "source": [
    "print(train_encodings)\n"
   ]
  },
  {
   "cell_type": "code",
   "execution_count": 107,
   "id": "6d4b8952-2085-4a50-b096-da6c7b69a720",
   "metadata": {},
   "outputs": [
    {
     "name": "stdout",
     "output_type": "stream",
     "text": [
      "<class 'torch.Tensor'>\n",
      "<class 'numpy.ndarray'>\n",
      "torch.Size([4000, 40])\n",
      "(4000, 2)\n"
     ]
    }
   ],
   "source": [
    "print(type(train_encodings))\n",
    "print(type(train_labels_binarized))\n",
    "print(train_encodings.shape)\n",
    "print(train_labels_binarized.shape)\n"
   ]
  },
  {
   "cell_type": "code",
   "execution_count": 108,
   "id": "c43319b2-49c4-4828-a1cc-95b2adeef8e7",
   "metadata": {},
   "outputs": [],
   "source": [
    "train_encodings = train_encodings.numpy()\n"
   ]
  },
  {
   "cell_type": "code",
   "execution_count": 110,
   "id": "58aca708-c653-4de2-891b-c02f373f5499",
   "metadata": {},
   "outputs": [
    {
     "name": "stdout",
     "output_type": "stream",
     "text": [
      "(4000, 40)\n",
      "(4000, 2)\n"
     ]
    }
   ],
   "source": [
    "print(train_encodings.shape)  \n",
    "print(train_labels_binarized.shape)\n"
   ]
  },
  {
   "cell_type": "code",
   "execution_count": 112,
   "id": "395a567f-d752-4520-a8f3-72b173171f69",
   "metadata": {},
   "outputs": [
    {
     "name": "stdout",
     "output_type": "stream",
     "text": [
      "<class 'numpy.ndarray'>\n",
      "<class 'numpy.ndarray'>\n"
     ]
    }
   ],
   "source": [
    "print(type(train_encodings))  \n",
    "print(type(train_labels_binarized)) \n"
   ]
  },
  {
   "cell_type": "code",
   "execution_count": 17,
   "id": "4ef5c0cb-c6d8-40dd-9f61-56f610171b1f",
   "metadata": {},
   "outputs": [],
   "source": [
    "\n",
    "# Data Cleaning Function\n",
    "def clean_text(text):\n",
    "    # Remove special characters and digits\n",
    "    text = re.sub(r'\\W', ' ', text)\n",
    "    text = re.sub(r'\\d', '', text)\n",
    "    # Convert to lowercase\n",
    "    text = text.lower()\n",
    "    return text"
   ]
  },
  {
   "cell_type": "code",
   "execution_count": 18,
   "id": "5d427219-ca34-4e6c-abba-c76e1bb0c4cd",
   "metadata": {},
   "outputs": [],
   "source": [
    "\n",
    "df_articles['title'] = df_articles['title'].apply(clean_text)"
   ]
  },
  {
   "cell_type": "code",
   "execution_count": 19,
   "id": "c3da511f-8f76-40cc-8262-47df9ef1876e",
   "metadata": {},
   "outputs": [],
   "source": [
    "# Converting categories to suitable for multi-label classification\n",
    "mlb = MultiLabelBinarizer()\n",
    "y = mlb.fit_transform(df_articles['category'])\n",
    "\n",
    "# Split the data into training and test sets\n",
    "X_train, X_test, y_train, y_test = train_test_split(df_articles['title'], y, test_size=0.3, random_state=42)"
   ]
  },
  {
   "cell_type": "code",
   "execution_count": 20,
   "id": "5d4683da-5e76-4af8-93b4-cca195d3379d",
   "metadata": {},
   "outputs": [],
   "source": [
    "#pipeline\n",
    "pipeline = Pipeline([\n",
    "    ('tfidf', TfidfVectorizer()),  # Text feature extraction\n",
    "    ('clf', RandomForestClassifier())  # Classifier\n",
    "])"
   ]
  },
  {
   "cell_type": "code",
   "execution_count": 21,
   "id": "7a002149-61a2-4d69-97fa-67d0d61cbb70",
   "metadata": {},
   "outputs": [],
   "source": [
    "#hyperparameters to tune for GridSearchCV\n",
    "param_grid = {\n",
    "    'tfidf__max_features': [None, 500, 1000],\n",
    "    'clf__n_estimators': [50, 100, 150],\n",
    "    'clf__max_depth': [None, 10, 20]\n",
    "}"
   ]
  },
  {
   "cell_type": "code",
   "execution_count": 22,
   "id": "02897e0d-7795-4c91-afed-5b58da9f2492",
   "metadata": {},
   "outputs": [
    {
     "name": "stdout",
     "output_type": "stream",
     "text": [
      "Fitting 3 folds for each of 27 candidates, totalling 81 fits\n"
     ]
    },
    {
     "data": {
      "text/html": [
       "<style>#sk-container-id-1 {color: black;background-color: white;}#sk-container-id-1 pre{padding: 0;}#sk-container-id-1 div.sk-toggleable {background-color: white;}#sk-container-id-1 label.sk-toggleable__label {cursor: pointer;display: block;width: 100%;margin-bottom: 0;padding: 0.3em;box-sizing: border-box;text-align: center;}#sk-container-id-1 label.sk-toggleable__label-arrow:before {content: \"▸\";float: left;margin-right: 0.25em;color: #696969;}#sk-container-id-1 label.sk-toggleable__label-arrow:hover:before {color: black;}#sk-container-id-1 div.sk-estimator:hover label.sk-toggleable__label-arrow:before {color: black;}#sk-container-id-1 div.sk-toggleable__content {max-height: 0;max-width: 0;overflow: hidden;text-align: left;background-color: #f0f8ff;}#sk-container-id-1 div.sk-toggleable__content pre {margin: 0.2em;color: black;border-radius: 0.25em;background-color: #f0f8ff;}#sk-container-id-1 input.sk-toggleable__control:checked~div.sk-toggleable__content {max-height: 200px;max-width: 100%;overflow: auto;}#sk-container-id-1 input.sk-toggleable__control:checked~label.sk-toggleable__label-arrow:before {content: \"▾\";}#sk-container-id-1 div.sk-estimator input.sk-toggleable__control:checked~label.sk-toggleable__label {background-color: #d4ebff;}#sk-container-id-1 div.sk-label input.sk-toggleable__control:checked~label.sk-toggleable__label {background-color: #d4ebff;}#sk-container-id-1 input.sk-hidden--visually {border: 0;clip: rect(1px 1px 1px 1px);clip: rect(1px, 1px, 1px, 1px);height: 1px;margin: -1px;overflow: hidden;padding: 0;position: absolute;width: 1px;}#sk-container-id-1 div.sk-estimator {font-family: monospace;background-color: #f0f8ff;border: 1px dotted black;border-radius: 0.25em;box-sizing: border-box;margin-bottom: 0.5em;}#sk-container-id-1 div.sk-estimator:hover {background-color: #d4ebff;}#sk-container-id-1 div.sk-parallel-item::after {content: \"\";width: 100%;border-bottom: 1px solid gray;flex-grow: 1;}#sk-container-id-1 div.sk-label:hover label.sk-toggleable__label {background-color: #d4ebff;}#sk-container-id-1 div.sk-serial::before {content: \"\";position: absolute;border-left: 1px solid gray;box-sizing: border-box;top: 0;bottom: 0;left: 50%;z-index: 0;}#sk-container-id-1 div.sk-serial {display: flex;flex-direction: column;align-items: center;background-color: white;padding-right: 0.2em;padding-left: 0.2em;position: relative;}#sk-container-id-1 div.sk-item {position: relative;z-index: 1;}#sk-container-id-1 div.sk-parallel {display: flex;align-items: stretch;justify-content: center;background-color: white;position: relative;}#sk-container-id-1 div.sk-item::before, #sk-container-id-1 div.sk-parallel-item::before {content: \"\";position: absolute;border-left: 1px solid gray;box-sizing: border-box;top: 0;bottom: 0;left: 50%;z-index: -1;}#sk-container-id-1 div.sk-parallel-item {display: flex;flex-direction: column;z-index: 1;position: relative;background-color: white;}#sk-container-id-1 div.sk-parallel-item:first-child::after {align-self: flex-end;width: 50%;}#sk-container-id-1 div.sk-parallel-item:last-child::after {align-self: flex-start;width: 50%;}#sk-container-id-1 div.sk-parallel-item:only-child::after {width: 0;}#sk-container-id-1 div.sk-dashed-wrapped {border: 1px dashed gray;margin: 0 0.4em 0.5em 0.4em;box-sizing: border-box;padding-bottom: 0.4em;background-color: white;}#sk-container-id-1 div.sk-label label {font-family: monospace;font-weight: bold;display: inline-block;line-height: 1.2em;}#sk-container-id-1 div.sk-label-container {text-align: center;}#sk-container-id-1 div.sk-container {/* jupyter's `normalize.less` sets `[hidden] { display: none; }` but bootstrap.min.css set `[hidden] { display: none !important; }` so we also need the `!important` here to be able to override the default hidden behavior on the sphinx rendered scikit-learn.org. See: https://github.com/scikit-learn/scikit-learn/issues/21755 */display: inline-block !important;position: relative;}#sk-container-id-1 div.sk-text-repr-fallback {display: none;}</style><div id=\"sk-container-id-1\" class=\"sk-top-container\"><div class=\"sk-text-repr-fallback\"><pre>GridSearchCV(cv=3,\n",
       "             estimator=Pipeline(steps=[(&#x27;tfidf&#x27;, TfidfVectorizer()),\n",
       "                                       (&#x27;clf&#x27;, RandomForestClassifier())]),\n",
       "             n_jobs=-1,\n",
       "             param_grid={&#x27;clf__max_depth&#x27;: [None, 10, 20],\n",
       "                         &#x27;clf__n_estimators&#x27;: [50, 100, 150],\n",
       "                         &#x27;tfidf__max_features&#x27;: [None, 500, 1000]},\n",
       "             scoring=&#x27;accuracy&#x27;, verbose=1)</pre><b>In a Jupyter environment, please rerun this cell to show the HTML representation or trust the notebook. <br />On GitHub, the HTML representation is unable to render, please try loading this page with nbviewer.org.</b></div><div class=\"sk-container\" hidden><div class=\"sk-item sk-dashed-wrapped\"><div class=\"sk-label-container\"><div class=\"sk-label sk-toggleable\"><input class=\"sk-toggleable__control sk-hidden--visually\" id=\"sk-estimator-id-1\" type=\"checkbox\" ><label for=\"sk-estimator-id-1\" class=\"sk-toggleable__label sk-toggleable__label-arrow\">GridSearchCV</label><div class=\"sk-toggleable__content\"><pre>GridSearchCV(cv=3,\n",
       "             estimator=Pipeline(steps=[(&#x27;tfidf&#x27;, TfidfVectorizer()),\n",
       "                                       (&#x27;clf&#x27;, RandomForestClassifier())]),\n",
       "             n_jobs=-1,\n",
       "             param_grid={&#x27;clf__max_depth&#x27;: [None, 10, 20],\n",
       "                         &#x27;clf__n_estimators&#x27;: [50, 100, 150],\n",
       "                         &#x27;tfidf__max_features&#x27;: [None, 500, 1000]},\n",
       "             scoring=&#x27;accuracy&#x27;, verbose=1)</pre></div></div></div><div class=\"sk-parallel\"><div class=\"sk-parallel-item\"><div class=\"sk-item\"><div class=\"sk-label-container\"><div class=\"sk-label sk-toggleable\"><input class=\"sk-toggleable__control sk-hidden--visually\" id=\"sk-estimator-id-2\" type=\"checkbox\" ><label for=\"sk-estimator-id-2\" class=\"sk-toggleable__label sk-toggleable__label-arrow\">estimator: Pipeline</label><div class=\"sk-toggleable__content\"><pre>Pipeline(steps=[(&#x27;tfidf&#x27;, TfidfVectorizer()),\n",
       "                (&#x27;clf&#x27;, RandomForestClassifier())])</pre></div></div></div><div class=\"sk-serial\"><div class=\"sk-item\"><div class=\"sk-serial\"><div class=\"sk-item\"><div class=\"sk-estimator sk-toggleable\"><input class=\"sk-toggleable__control sk-hidden--visually\" id=\"sk-estimator-id-3\" type=\"checkbox\" ><label for=\"sk-estimator-id-3\" class=\"sk-toggleable__label sk-toggleable__label-arrow\">TfidfVectorizer</label><div class=\"sk-toggleable__content\"><pre>TfidfVectorizer()</pre></div></div></div><div class=\"sk-item\"><div class=\"sk-estimator sk-toggleable\"><input class=\"sk-toggleable__control sk-hidden--visually\" id=\"sk-estimator-id-4\" type=\"checkbox\" ><label for=\"sk-estimator-id-4\" class=\"sk-toggleable__label sk-toggleable__label-arrow\">RandomForestClassifier</label><div class=\"sk-toggleable__content\"><pre>RandomForestClassifier()</pre></div></div></div></div></div></div></div></div></div></div></div></div>"
      ],
      "text/plain": [
       "GridSearchCV(cv=3,\n",
       "             estimator=Pipeline(steps=[('tfidf', TfidfVectorizer()),\n",
       "                                       ('clf', RandomForestClassifier())]),\n",
       "             n_jobs=-1,\n",
       "             param_grid={'clf__max_depth': [None, 10, 20],\n",
       "                         'clf__n_estimators': [50, 100, 150],\n",
       "                         'tfidf__max_features': [None, 500, 1000]},\n",
       "             scoring='accuracy', verbose=1)"
      ]
     },
     "execution_count": 22,
     "metadata": {},
     "output_type": "execute_result"
    }
   ],
   "source": [
    "# GridSearchCV\n",
    "grid_search = GridSearchCV(pipeline, param_grid, cv=3, n_jobs=-1, verbose=1, scoring='accuracy')\n",
    "\n",
    "# Fit \n",
    "grid_search.fit(X_train, y_train)"
   ]
  },
  {
   "cell_type": "code",
   "execution_count": 23,
   "id": "3a62335f-01fe-49b2-a646-82f502c5847f",
   "metadata": {},
   "outputs": [
    {
     "name": "stdout",
     "output_type": "stream",
     "text": [
      "Best hyperparameters found by GridSearchCV:\n",
      "{'clf__max_depth': None, 'clf__n_estimators': 50, 'tfidf__max_features': None}\n"
     ]
    }
   ],
   "source": [
    "# Best hyperparameters\n",
    "print(\"Best hyperparameters found by GridSearchCV:\")\n",
    "print(grid_search.best_params_)\n",
    "\n",
    "# Prediction on test set\n",
    "y_pred = grid_search.predict(X_test)"
   ]
  },
  {
   "cell_type": "code",
   "execution_count": 24,
   "id": "73b6adad-2490-4f68-804b-9bdf9aa56728",
   "metadata": {},
   "outputs": [
    {
     "name": "stdout",
     "output_type": "stream",
     "text": [
      "Training accuracy: 0.9905714285714285\n",
      "Test accuracy: 0.9886666666666667\n",
      "\n",
      "Classification Report:\n",
      "                                          precision    recall  f1-score   support\n",
      "\n",
      "                            ['academia']       1.00      1.00      1.00        37\n",
      "                ['academic', 'CS', 'CR']       1.00      1.00      1.00        32\n",
      "                ['academic', 'CS', 'CV']       1.00      1.00      1.00        33\n",
      "                ['academic', 'CS', 'DB']       1.00      1.00      1.00        13\n",
      "                      ['academic', 'CS']       1.00      1.00      1.00       465\n",
      "                    ['academic', 'ECON']       1.00      1.00      1.00        13\n",
      "                 ['academic', 'PHYSICS']       1.00      1.00      1.00        24\n",
      "           ['academic', 'STATS', 'MATH']       1.00      1.00      1.00        12\n",
      "                  ['books', 'lifestyle']       1.00      1.00      1.00        16\n",
      "                            ['business']       1.00      1.00      1.00        29\n",
      "                        ['conservative']       1.00      1.00      1.00        20\n",
      "       ['gadgets', 'game', 'technology']       1.00      1.00      1.00        44\n",
      "                 ['general', 'business']       1.00      1.00      1.00        22\n",
      "                             ['general']       1.00      0.89      0.94       158\n",
      "            ['photography', 'lifestyle']       1.00      1.00      1.00        14\n",
      "                            ['politics']       1.00      1.00      1.00        28\n",
      "                         ['programming']       1.00      1.00      1.00        90\n",
      "                 ['regional', 'alabama']       1.00      1.00      1.00        13\n",
      "['regional', 'sacramento', 'california']       0.50      1.00      0.67        17\n",
      "                     ['regional', 'usa']       1.00      1.00      1.00        13\n",
      "                            ['regional']       1.00      1.00      1.00        94\n",
      "                             ['science']       1.00      1.00      1.00        18\n",
      "                              ['sports']       1.00      1.00      1.00       104\n",
      "                          ['technology']       1.00      1.00      1.00        40\n",
      "                         ['world', 'us']       1.00      1.00      1.00        15\n",
      "                               ['world']       1.00      1.00      1.00       124\n",
      "                                      []       1.00      1.00      1.00        12\n",
      "\n",
      "                               micro avg       0.99      0.99      0.99      1500\n",
      "                               macro avg       0.98      1.00      0.99      1500\n",
      "                            weighted avg       0.99      0.99      0.99      1500\n",
      "                             samples avg       0.99      0.99      0.99      1500\n",
      "\n"
     ]
    }
   ],
   "source": [
    "# Evaluating the model\n",
    "print(f\"Training accuracy: {grid_search.score(X_train, y_train)}\")\n",
    "print(f\"Test accuracy: {grid_search.score(X_test, y_test)}\")\n",
    "print(\"\\nClassification Report:\")\n",
    "print(classification_report(y_test, y_pred, target_names=mlb.classes_))"
   ]
  },
  {
   "cell_type": "code",
   "execution_count": 25,
   "id": "564450bc-ee0d-4816-815c-a3ada0111733",
   "metadata": {},
   "outputs": [],
   "source": [
    "# Defining the objective function for Optuna\n",
    "def objective(trial):\n",
    "    pipeline = Pipeline([\n",
    "        ('tfidf', TfidfVectorizer(\n",
    "            max_features=trial.suggest_int('tfidf_max_features', 500, 2000),\n",
    "            ngram_range=(1, trial.suggest_int('ngram_range', 1, 2))\n",
    "        )),\n",
    "        ('clf', RandomForestClassifier(\n",
    "            n_estimators=trial.suggest_int('n_estimators', 50, 200),\n",
    "            max_depth=trial.suggest_int('max_depth', 10, 30)\n",
    "        ))\n",
    "    ])\n",
    "\n",
    "    # cross-validation\n",
    "    score = cross_val_score(pipeline, X_train, y_train, cv=3, scoring='accuracy').mean()\n",
    "    return score"
   ]
  },
  {
   "cell_type": "code",
   "execution_count": 26,
   "id": "fee32609-d487-45a7-835e-9d54f076b9e3",
   "metadata": {},
   "outputs": [
    {
     "name": "stderr",
     "output_type": "stream",
     "text": [
      "[I 2024-09-13 15:10:52,747] A new study created in memory with name: no-name-d054a8f8-178c-41b3-a811-5c7e43d50a74\n",
      "[I 2024-09-13 15:10:56,324] Trial 0 finished with value: 0.8434257695546923 and parameters: {'tfidf_max_features': 1501, 'ngram_range': 1, 'n_estimators': 121, 'max_depth': 21}. Best is trial 0 with value: 0.8434257695546923.\n",
      "[I 2024-09-13 15:11:00,502] Trial 1 finished with value: 0.8354224203523325 and parameters: {'tfidf_max_features': 733, 'ngram_range': 2, 'n_estimators': 133, 'max_depth': 22}. Best is trial 0 with value: 0.8434257695546923.\n",
      "[I 2024-09-13 15:11:03,596] Trial 2 finished with value: 0.41371051544694654 and parameters: {'tfidf_max_features': 1986, 'ngram_range': 1, 'n_estimators': 125, 'max_depth': 11}. Best is trial 0 with value: 0.8434257695546923.\n",
      "[I 2024-09-13 15:11:08,906] Trial 3 finished with value: 0.9514233375124871 and parameters: {'tfidf_max_features': 1783, 'ngram_range': 1, 'n_estimators': 178, 'max_depth': 28}. Best is trial 3 with value: 0.9514233375124871.\n",
      "[I 2024-09-13 15:11:13,353] Trial 4 finished with value: 0.5902858923424477 and parameters: {'tfidf_max_features': 1727, 'ngram_range': 1, 'n_estimators': 167, 'max_depth': 14}. Best is trial 3 with value: 0.9514233375124871.\n",
      "[I 2024-09-13 15:11:18,038] Trial 5 finished with value: 0.3985761480547337 and parameters: {'tfidf_max_features': 1542, 'ngram_range': 2, 'n_estimators': 173, 'max_depth': 12}. Best is trial 3 with value: 0.9514233375124871.\n",
      "[I 2024-09-13 15:11:20,693] Trial 6 finished with value: 0.6005860614193544 and parameters: {'tfidf_max_features': 1596, 'ngram_range': 1, 'n_estimators': 100, 'max_depth': 15}. Best is trial 3 with value: 0.9514233375124871.\n",
      "[I 2024-09-13 15:11:22,519] Trial 7 finished with value: 0.5345681679774903 and parameters: {'tfidf_max_features': 1760, 'ngram_range': 2, 'n_estimators': 59, 'max_depth': 14}. Best is trial 3 with value: 0.9514233375124871.\n",
      "[I 2024-09-13 15:11:26,088] Trial 8 finished with value: 0.762852858017043 and parameters: {'tfidf_max_features': 1247, 'ngram_range': 1, 'n_estimators': 116, 'max_depth': 18}. Best is trial 3 with value: 0.9514233375124871.\n",
      "[I 2024-09-13 15:11:30,114] Trial 9 finished with value: 0.8271388277693754 and parameters: {'tfidf_max_features': 951, 'ngram_range': 1, 'n_estimators': 144, 'max_depth': 20}. Best is trial 3 with value: 0.9514233375124871.\n"
     ]
    }
   ],
   "source": [
    "#Optuna study and optimize\n",
    "study = optuna.create_study(direction='maximize')\n",
    "study.optimize(objective, n_trials=10)"
   ]
  },
  {
   "cell_type": "code",
   "execution_count": 27,
   "id": "d511e199-ecec-42b7-b227-d41199be85ca",
   "metadata": {},
   "outputs": [
    {
     "name": "stdout",
     "output_type": "stream",
     "text": [
      "Best hyperparameters found by Optuna:\n",
      "{'tfidf_max_features': 1783, 'ngram_range': 1, 'n_estimators': 178, 'max_depth': 28}\n"
     ]
    }
   ],
   "source": [
    "# Best hyperparameters\n",
    "print(\"Best hyperparameters found by Optuna:\")\n",
    "print(study.best_params)"
   ]
  },
  {
   "cell_type": "code",
   "execution_count": 28,
   "id": "e44adb52-15eb-4346-b78a-2fec116d0a8a",
   "metadata": {},
   "outputs": [],
   "source": [
    "# Train the model\n",
    "best_params = study.best_params\n",
    "pipeline = Pipeline([\n",
    "    ('tfidf', TfidfVectorizer(\n",
    "        max_features=best_params['tfidf_max_features'],\n",
    "        ngram_range=(1, best_params['ngram_range'])\n",
    "    )),\n",
    "    ('clf', RandomForestClassifier(\n",
    "        n_estimators=best_params['n_estimators'],\n",
    "        max_depth=best_params['max_depth']\n",
    "    ))\n",
    "])"
   ]
  },
  {
   "cell_type": "code",
   "execution_count": 29,
   "id": "2e563d17-ed6d-4a72-9f2c-7938cd493928",
   "metadata": {},
   "outputs": [],
   "source": [
    "pipeline.fit(X_train, y_train)\n",
    "\n",
    "# Predict on test set\n",
    "y_pred = pipeline.predict(X_test)"
   ]
  },
  {
   "cell_type": "code",
   "execution_count": 30,
   "id": "5c4b10cf-f0a0-4f4e-8cc9-eb146b910901",
   "metadata": {},
   "outputs": [
    {
     "name": "stdout",
     "output_type": "stream",
     "text": [
      "Training accuracy with Optuna parameters: 0.9654285714285714\n",
      "Test accuracy with Optuna parameters: 0.9473333333333334\n",
      "\n",
      "Classification Report:\n",
      "                                          precision    recall  f1-score   support\n",
      "\n",
      "                            ['academia']       1.00      1.00      1.00        37\n",
      "                ['academic', 'CS', 'CR']       1.00      1.00      1.00        32\n",
      "                ['academic', 'CS', 'CV']       1.00      1.00      1.00        33\n",
      "                ['academic', 'CS', 'DB']       1.00      1.00      1.00        13\n",
      "                      ['academic', 'CS']       1.00      1.00      1.00       465\n",
      "                    ['academic', 'ECON']       1.00      1.00      1.00        13\n",
      "                 ['academic', 'PHYSICS']       1.00      1.00      1.00        24\n",
      "           ['academic', 'STATS', 'MATH']       1.00      1.00      1.00        12\n",
      "                  ['books', 'lifestyle']       1.00      1.00      1.00        16\n",
      "                            ['business']       1.00      1.00      1.00        29\n",
      "                        ['conservative']       0.00      0.00      0.00        20\n",
      "       ['gadgets', 'game', 'technology']       1.00      1.00      1.00        44\n",
      "                 ['general', 'business']       1.00      1.00      1.00        22\n",
      "                             ['general']       1.00      0.89      0.94       158\n",
      "            ['photography', 'lifestyle']       1.00      1.00      1.00        14\n",
      "                            ['politics']       1.00      1.00      1.00        28\n",
      "                         ['programming']       1.00      1.00      1.00        90\n",
      "                 ['regional', 'alabama']       1.00      1.00      1.00        13\n",
      "['regional', 'sacramento', 'california']       0.00      0.00      0.00        17\n",
      "                     ['regional', 'usa']       1.00      1.00      1.00        13\n",
      "                            ['regional']       1.00      0.73      0.85        94\n",
      "                             ['science']       1.00      1.00      1.00        18\n",
      "                              ['sports']       1.00      1.00      1.00       104\n",
      "                          ['technology']       1.00      1.00      1.00        40\n",
      "                         ['world', 'us']       1.00      1.00      1.00        15\n",
      "                               ['world']       1.00      1.00      1.00       124\n",
      "                                      []       1.00      1.00      1.00        12\n",
      "\n",
      "                               micro avg       1.00      0.95      0.97      1500\n",
      "                               macro avg       0.93      0.91      0.92      1500\n",
      "                            weighted avg       0.98      0.95      0.96      1500\n",
      "                             samples avg       0.95      0.95      0.95      1500\n",
      "\n"
     ]
    },
    {
     "name": "stderr",
     "output_type": "stream",
     "text": [
      "C:\\Users\\USER\\anaconda3\\Lib\\site-packages\\sklearn\\metrics\\_classification.py:1344: UndefinedMetricWarning: Precision and F-score are ill-defined and being set to 0.0 in labels with no predicted samples. Use `zero_division` parameter to control this behavior.\n",
      "  _warn_prf(average, modifier, msg_start, len(result))\n",
      "C:\\Users\\USER\\anaconda3\\Lib\\site-packages\\sklearn\\metrics\\_classification.py:1344: UndefinedMetricWarning: Precision and F-score are ill-defined and being set to 0.0 in samples with no predicted labels. Use `zero_division` parameter to control this behavior.\n",
      "  _warn_prf(average, modifier, msg_start, len(result))\n"
     ]
    }
   ],
   "source": [
    "# Evaluating model\n",
    "print(f\"Training accuracy with Optuna parameters: {pipeline.score(X_train, y_train)}\")\n",
    "print(f\"Test accuracy with Optuna parameters: {pipeline.score(X_test, y_test)}\")\n",
    "print(\"\\nClassification Report:\")\n",
    "print(classification_report(y_test, y_pred, target_names=mlb.classes_))\n"
   ]
  },
  {
   "cell_type": "code",
   "execution_count": null,
   "id": "461028d8-2780-4446-97eb-099c217b6748",
   "metadata": {},
   "outputs": [],
   "source": []
  }
 ],
 "metadata": {
  "kernelspec": {
   "display_name": "Python 3 (ipykernel)",
   "language": "python",
   "name": "python3"
  },
  "language_info": {
   "codemirror_mode": {
    "name": "ipython",
    "version": 3
   },
   "file_extension": ".py",
   "mimetype": "text/x-python",
   "name": "python",
   "nbconvert_exporter": "python",
   "pygments_lexer": "ipython3",
   "version": "3.11.7"
  }
 },
 "nbformat": 4,
 "nbformat_minor": 5
}
